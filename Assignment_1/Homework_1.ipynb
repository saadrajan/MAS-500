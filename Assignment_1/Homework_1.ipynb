{
 "cells": [
  {
   "cell_type": "code",
   "execution_count": 1,
   "metadata": {},
   "outputs": [
    {
     "name": "stdout",
     "output_type": "stream",
     "text": [
      "207552\n"
     ]
    }
   ],
   "source": [
    "import mediacloud, datetime\n",
    "mc = mediacloud.api.MediaCloud('7c84c4f046c7fe7d8e96be9cedd4817d09fab2a622de79fdef82a1a24a0cf542')\n",
    "res = mc.sentenceCount('( trump)', solr_filter=[mc.publish_date_query( datetime.date( 2016, 9, 1), datetime.date( 2016, 10, 1) ), 'tags_id_media:1' ])\n",
    "print(res['count'])"
   ]
  },
  {
   "cell_type": "code",
   "execution_count": 2,
   "metadata": {},
   "outputs": [
    {
     "name": "stdout",
     "output_type": "stream",
     "text": [
      "139564\n"
     ]
    }
   ],
   "source": [
    "import mediacloud, datetime\n",
    "mc = mediacloud.api.MediaCloud('7c84c4f046c7fe7d8e96be9cedd4817d09fab2a622de79fdef82a1a24a0cf542')\n",
    "res = mc.sentenceCount('( clinton)', solr_filter=[mc.publish_date_query( datetime.date( 2016, 9, 1), datetime.date( 2016, 10, 1) ), 'tags_id_media:1' ])\n",
    "print(res['count'])"
   ]
  },
  {
   "cell_type": "code",
   "execution_count": null,
   "metadata": {
    "collapsed": true
   },
   "outputs": [],
   "source": []
  }
 ],
 "metadata": {
  "kernelspec": {
   "display_name": "Python 2",
   "language": "python",
   "name": "python2"
  },
  "language_info": {
   "codemirror_mode": {
    "name": "ipython",
    "version": 2
   },
   "file_extension": ".py",
   "mimetype": "text/x-python",
   "name": "python",
   "nbconvert_exporter": "python",
   "pygments_lexer": "ipython2",
   "version": "2.7.14"
  }
 },
 "nbformat": 4,
 "nbformat_minor": 2
}
