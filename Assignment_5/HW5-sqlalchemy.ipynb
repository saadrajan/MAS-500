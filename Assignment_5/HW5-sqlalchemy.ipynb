{
 "cells": [
  {
   "cell_type": "markdown",
   "metadata": {},
   "source": [
    "## HW5: SQLAlchemy + MediaCloud "
   ]
  },
  {
   "cell_type": "code",
   "execution_count": 1,
   "metadata": {
    "collapsed": true
   },
   "outputs": [],
   "source": [
    "#Initialize sqlalchemy\n",
    "\n",
    "from sqlalchemy import *\n",
    "import datetime"
   ]
  },
  {
   "cell_type": "code",
   "execution_count": 2,
   "metadata": {
    "scrolled": true
   },
   "outputs": [
    {
     "name": "stdout",
     "output_type": "stream",
     "text": [
      "{'keyword': 'trump', 'count': 174757}\n",
      "{'keyword': 'clinton', 'count': 17963}\n"
     ]
    }
   ],
   "source": [
    "## Initialize mediacloud\n",
    "import mediacloud, json, datetime\n",
    "from config import MY_API_KEY\n",
    "\n",
    "mc = mediacloud.api.MediaCloud(MY_API_KEY)\n",
    "\n",
    "keyword1 = 'trump'\n",
    "res = mc.sentenceCount(keyword1, solr_filter=[mc.publish_date_query( datetime.date( 2017, 11, 1), datetime.date( 2017, 11, 30) ), 'tags_id_media:1' ])\n",
    "query1 = {'keyword': keyword1, 'count': res['count']}\n",
    "print(query1)\n",
    "\n",
    "keyword2 = 'clinton'\n",
    "res = mc.sentenceCount(keyword2, solr_filter=[mc.publish_date_query( datetime.date( 2017, 11, 1), datetime.date( 2017, 11, 30) ), 'tags_id_media:1' ])\n",
    "query2 = {'keyword': keyword2, 'count': res['count']}\n",
    "print(query2)\n"
   ]
  },
  {
   "cell_type": "code",
   "execution_count": 4,
   "metadata": {},
   "outputs": [
    {
     "name": "stdout",
     "output_type": "stream",
     "text": [
      "2017-12-14 01:24:53,038 INFO sqlalchemy.engine.base.Engine SELECT CAST('test plain returns' AS VARCHAR(60)) AS anon_1\n",
      "2017-12-14 01:24:53,040 INFO sqlalchemy.engine.base.Engine ()\n",
      "2017-12-14 01:24:53,044 INFO sqlalchemy.engine.base.Engine SELECT CAST('test unicode returns' AS VARCHAR(60)) AS anon_1\n",
      "2017-12-14 01:24:53,047 INFO sqlalchemy.engine.base.Engine ()\n",
      "2017-12-14 01:24:53,052 INFO sqlalchemy.engine.base.Engine PRAGMA table_info(\"queries\")\n",
      "2017-12-14 01:24:53,054 INFO sqlalchemy.engine.base.Engine ()\n",
      "2017-12-14 01:24:53,059 INFO sqlalchemy.engine.base.Engine \n",
      "CREATE TABLE queries (\n",
      "\tid INTEGER NOT NULL, \n",
      "\tkeyword VARCHAR(400) NOT NULL, \n",
      "\tcount INTEGER NOT NULL, \n",
      "\ttimestamp DATETIME, \n",
      "\tPRIMARY KEY (id)\n",
      ")\n",
      "\n",
      "\n",
      "2017-12-14 01:24:53,063 INFO sqlalchemy.engine.base.Engine ()\n",
      "2017-12-14 01:24:53,065 INFO sqlalchemy.engine.base.Engine COMMIT\n"
     ]
    }
   ],
   "source": [
    "\n",
    "#Create a table \n",
    "\n",
    "# add `echo=True` to see log statements of all the SQL that is generated\n",
    "engine = create_engine('sqlite:///:memory:',echo=True) # just save the db in memory for now (ie. not on disk)\n",
    "db_conn = engine.connect()\n",
    "metadata = MetaData()\n",
    "# define a table to use\n",
    "keywords_table = Table('queries', metadata,\n",
    "    Column('id', Integer, primary_key=True),\n",
    "    Column('keyword', String(400), nullable=False),\n",
    "    Column('count', Integer, nullable=False),\n",
    "    Column('timestamp', DateTime, default=datetime.datetime.now),\n",
    ")\n",
    "metadata.create_all(engine) # and create the tables in the databa\n"
   ]
  },
  {
   "cell_type": "code",
   "execution_count": 5,
   "metadata": {},
   "outputs": [
    {
     "name": "stdout",
     "output_type": "stream",
     "text": [
      "2017-12-14 01:24:57,553 INFO sqlalchemy.engine.base.Engine INSERT INTO queries (keyword, count, timestamp) VALUES (?, ?, ?), (?, ?, ?)\n",
      "2017-12-14 01:24:57,555 INFO sqlalchemy.engine.base.Engine ('trump', 174757, '2017-12-14 01:24:57.553210', 'clinton', 17963, '2017-12-14 01:24:57.553219')\n",
      "2017-12-14 01:24:57,563 INFO sqlalchemy.engine.base.Engine COMMIT\n"
     ]
    }
   ],
   "source": [
    "# Insert count per keyword\n",
    "insert_stmt = keywords_table.insert().values([query1, query2])\n",
    "result = db_conn.execute(insert_stmt)"
   ]
  },
  {
   "cell_type": "code",
   "execution_count": 6,
   "metadata": {},
   "outputs": [
    {
     "name": "stdout",
     "output_type": "stream",
     "text": [
      "2017-12-14 01:25:16,998 INFO sqlalchemy.engine.base.Engine SELECT queries.id, queries.keyword, queries.count, queries.timestamp \n",
      "FROM queries\n",
      "2017-12-14 01:25:17,000 INFO sqlalchemy.engine.base.Engine ()\n",
      "The count for trump is 174757\n",
      "The count for clinton is 17963\n",
      "Total count is 192720\n"
     ]
    }
   ],
   "source": [
    "# Select count per keyword\n",
    "# Show total\n",
    "\n",
    "from sqlalchemy.sql import select\n",
    "\n",
    "select_stmt = select([keywords_table])\n",
    "results = db_conn.execute(select_stmt)\n",
    "\n",
    "total_count = 0\n",
    "\n",
    "for row in results:\n",
    "    total_count += row.count\n",
    "    print('The count for {} is {}'.format(row.keyword, row.count))\n",
    "\n",
    "print('Total count is {}'.format(total_count))\n",
    "    "
   ]
  }
 ],
 "metadata": {
  "kernelspec": {
   "display_name": "Python 3",
   "language": "python",
   "name": "python3"
  },
  "language_info": {
   "codemirror_mode": {
    "name": "ipython",
    "version": 3
   },
   "file_extension": ".py",
   "mimetype": "text/x-python",
   "name": "python",
   "nbconvert_exporter": "python",
   "pygments_lexer": "ipython3",
   "version": "3.6.1"
  }
 },
 "nbformat": 4,
 "nbformat_minor": 2
}
